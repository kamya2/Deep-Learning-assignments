{
 "cells": [
  {
   "cell_type": "markdown",
   "metadata": {
    "_cell_guid": "b1076dfc-b9ad-4769-8c92-a6c4dae69d19",
    "_uuid": "8f2839f25d086af736a60e9eeb907d3b93b6e0e5"
   },
   "source": [
    "# Insurance cost prediction using linear regression\n",
    "\n",
    "In this assignment we're going to use information like a person's age, sex, BMI, no. of children and smoking habit to predict the price of yearly medical bills. This kind of model is useful for insurance companies to determine the yearly insurance premium for a person. The dataset for this problem is taken from: https://www.kaggle.com/mirichoi0218/insurance\n",
    "\n",
    "\n",
    "We will create a model with the following steps:\n",
    "1. Download and explore the dataset\n",
    "2. Prepare the dataset for training\n",
    "3. Create a linear regression model\n",
    "4. Train the model to fit the data\n",
    "5. Make predictions using the trained model\n",
    "\n",
    "\n",
    "This assignment builds upon the concepts from the first 2 lectures. It will help to review these Jupyter notebooks:\n",
    "- PyTorch basics: https://jovian.ml/aakashns/01-pytorch-basics\n",
    "- Linear Regression: https://jovian.ml/aakashns/02-linear-regression\n",
    "- Logistic Regression: https://jovian.ml/aakashns/03-logistic-regression\n",
    "- Linear regression (minimal): https://jovian.ml/aakashns/housing-linear-minimal\n",
    "- Logistic regression (minimal): https://jovian.ml/aakashns/mnist-logistic-minimal\n",
    "\n",
    "As you go through this notebook, you will find a **???** in certain places. Your job is to replace the **???** with appropriate code or values, to ensure that the notebook runs properly end-to-end . In some cases, you'll be required to choose some hyperparameters (learning rate, batch size etc.). Try to experiment with the hypeparameters to get the lowest loss.\n"
   ]
  },
  {
   "cell_type": "code",
   "execution_count": 1,
   "metadata": {},
   "outputs": [
    {
     "name": "stdout",
     "output_type": "stream",
     "text": [
      "Collecting package metadata (current_repodata.json): done\n",
      "Solving environment: done\n",
      "\n",
      "\n",
      "==> WARNING: A newer version of conda exists. <==\n",
      "  current version: 4.8.2\n",
      "  latest version: 4.8.3\n",
      "\n",
      "Please update conda by running\n",
      "\n",
      "    $ conda update -n base conda\n",
      "\n",
      "\n",
      "\n",
      "# All requested packages already installed.\n",
      "\n"
     ]
    }
   ],
   "source": [
    "# Uncomment and run the commands below if imports fail\n",
    "!conda install numpy pytorch torchvision cpuonly -c pytorch -y\n",
    "!pip install matplotlib --upgrade --quiet\n",
    "!pip install jovian --upgrade --quiet"
   ]
  },
  {
   "cell_type": "code",
   "execution_count": 2,
   "metadata": {},
   "outputs": [
    {
     "name": "stdout",
     "output_type": "stream",
     "text": [
      "Requirement already satisfied: pandas in /srv/conda/envs/notebook/lib/python3.7/site-packages (1.0.4)\n",
      "Requirement already satisfied: numpy>=1.13.3 in /srv/conda/envs/notebook/lib/python3.7/site-packages (from pandas) (1.18.5)\n",
      "Requirement already satisfied: python-dateutil>=2.6.1 in /srv/conda/envs/notebook/lib/python3.7/site-packages (from pandas) (2.8.1)\n",
      "Requirement already satisfied: pytz>=2017.2 in /srv/conda/envs/notebook/lib/python3.7/site-packages (from pandas) (2020.1)\n",
      "Requirement already satisfied: six>=1.5 in /srv/conda/envs/notebook/lib/python3.7/site-packages (from python-dateutil>=2.6.1->pandas) (1.15.0)\n"
     ]
    }
   ],
   "source": [
    " !pip install pandas"
   ]
  },
  {
   "cell_type": "code",
   "execution_count": 1,
   "metadata": {},
   "outputs": [],
   "source": [
    "import torch\n",
    "import jovian\n",
    "import torchvision\n",
    "import torch.nn as nn\n",
    "import pandas as pd\n",
    "import matplotlib.pyplot as plt\n",
    "import torch.nn.functional as F\n",
    "from torchvision.datasets.utils import download_url\n",
    "from torch.utils.data import DataLoader, TensorDataset, random_split\n"
   ]
  },
  {
   "cell_type": "code",
   "execution_count": 2,
   "metadata": {},
   "outputs": [],
   "source": [
    "project_name='02-insurance-linear-regression' # will be used by jovian.commit"
   ]
  },
  {
   "cell_type": "markdown",
   "metadata": {},
   "source": [
    "## Step 1: Download and explore the data\n",
    "\n",
    "Let us begin by downloading the data. We'll use the `download_url` function from PyTorch to get the data as a CSV (comma-separated values) file. "
   ]
  },
  {
   "cell_type": "code",
   "execution_count": 3,
   "metadata": {
    "_cell_guid": "79c7e3d0-c299-4dcb-8224-4455121ee9b0",
    "_uuid": "d629ff2d2480ee46fbb7e2d37f6b5fab8052498a"
   },
   "outputs": [
    {
     "name": "stdout",
     "output_type": "stream",
     "text": [
      "Downloading https://hub.jovian.ml/wp-content/uploads/2020/05/insurance.csv to ./insurance.csv\n"
     ]
    },
    {
     "name": "stderr",
     "output_type": "stream",
     "text": [
      "103.1%"
     ]
    }
   ],
   "source": [
    "DATASET_URL = \"https://hub.jovian.ml/wp-content/uploads/2020/05/insurance.csv\"\n",
    "DATA_FILENAME = \"insurance.csv\"\n",
    "download_url(DATASET_URL, '.')"
   ]
  },
  {
   "cell_type": "markdown",
   "metadata": {},
   "source": [
    "To load the dataset into memory, we'll use the `read_csv` function from the `pandas` library. The data will be loaded as a Pandas dataframe. See this short tutorial to learn more: https://data36.com/pandas-tutorial-1-basics-reading-data-files-dataframes-data-selection/"
   ]
  },
  {
   "cell_type": "code",
   "execution_count": 4,
   "metadata": {},
   "outputs": [
    {
     "data": {
      "text/html": [
       "<div>\n",
       "<style scoped>\n",
       "    .dataframe tbody tr th:only-of-type {\n",
       "        vertical-align: middle;\n",
       "    }\n",
       "\n",
       "    .dataframe tbody tr th {\n",
       "        vertical-align: top;\n",
       "    }\n",
       "\n",
       "    .dataframe thead th {\n",
       "        text-align: right;\n",
       "    }\n",
       "</style>\n",
       "<table border=\"1\" class=\"dataframe\">\n",
       "  <thead>\n",
       "    <tr style=\"text-align: right;\">\n",
       "      <th></th>\n",
       "      <th>age</th>\n",
       "      <th>sex</th>\n",
       "      <th>bmi</th>\n",
       "      <th>children</th>\n",
       "      <th>smoker</th>\n",
       "      <th>region</th>\n",
       "      <th>charges</th>\n",
       "    </tr>\n",
       "  </thead>\n",
       "  <tbody>\n",
       "    <tr>\n",
       "      <th>0</th>\n",
       "      <td>19</td>\n",
       "      <td>female</td>\n",
       "      <td>27.900</td>\n",
       "      <td>0</td>\n",
       "      <td>yes</td>\n",
       "      <td>southwest</td>\n",
       "      <td>16884.92400</td>\n",
       "    </tr>\n",
       "    <tr>\n",
       "      <th>1</th>\n",
       "      <td>18</td>\n",
       "      <td>male</td>\n",
       "      <td>33.770</td>\n",
       "      <td>1</td>\n",
       "      <td>no</td>\n",
       "      <td>southeast</td>\n",
       "      <td>1725.55230</td>\n",
       "    </tr>\n",
       "    <tr>\n",
       "      <th>2</th>\n",
       "      <td>28</td>\n",
       "      <td>male</td>\n",
       "      <td>33.000</td>\n",
       "      <td>3</td>\n",
       "      <td>no</td>\n",
       "      <td>southeast</td>\n",
       "      <td>4449.46200</td>\n",
       "    </tr>\n",
       "    <tr>\n",
       "      <th>3</th>\n",
       "      <td>33</td>\n",
       "      <td>male</td>\n",
       "      <td>22.705</td>\n",
       "      <td>0</td>\n",
       "      <td>no</td>\n",
       "      <td>northwest</td>\n",
       "      <td>21984.47061</td>\n",
       "    </tr>\n",
       "    <tr>\n",
       "      <th>4</th>\n",
       "      <td>32</td>\n",
       "      <td>male</td>\n",
       "      <td>28.880</td>\n",
       "      <td>0</td>\n",
       "      <td>no</td>\n",
       "      <td>northwest</td>\n",
       "      <td>3866.85520</td>\n",
       "    </tr>\n",
       "  </tbody>\n",
       "</table>\n",
       "</div>"
      ],
      "text/plain": [
       "   age     sex     bmi  children smoker     region      charges\n",
       "0   19  female  27.900         0    yes  southwest  16884.92400\n",
       "1   18    male  33.770         1     no  southeast   1725.55230\n",
       "2   28    male  33.000         3     no  southeast   4449.46200\n",
       "3   33    male  22.705         0     no  northwest  21984.47061\n",
       "4   32    male  28.880         0     no  northwest   3866.85520"
      ]
     },
     "execution_count": 4,
     "metadata": {},
     "output_type": "execute_result"
    }
   ],
   "source": [
    "dataframe_raw = pd.read_csv(DATA_FILENAME)\n",
    "dataframe_raw.head()"
   ]
  },
  {
   "cell_type": "markdown",
   "metadata": {},
   "source": [
    "We're going to do a slight customization of the data, so that you every participant receives a slightly different version of the dataset. Fill in your name below as a string (enter at least 5 characters)"
   ]
  },
  {
   "cell_type": "code",
   "execution_count": 5,
   "metadata": {},
   "outputs": [],
   "source": [
    "your_name = \"Kamya\" # at least 5 characters"
   ]
  },
  {
   "cell_type": "markdown",
   "metadata": {},
   "source": [
    "The `customize_dataset` function will customize the dataset slightly using your name as a source of random numbers."
   ]
  },
  {
   "cell_type": "code",
   "execution_count": 6,
   "metadata": {},
   "outputs": [],
   "source": [
    "def customize_dataset(dataframe_raw, rand_str):\n",
    "    dataframe = dataframe_raw.copy(deep=True)\n",
    "    # drop some rows\n",
    "    dataframe = dataframe.sample(int(0.95*len(dataframe)), random_state=int(ord(rand_str[0])))\n",
    "    # scale input\n",
    "    dataframe.bmi = dataframe.bmi * ord(rand_str[1])/100.\n",
    "    # scale target\n",
    "    dataframe.charges = dataframe.charges * ord(rand_str[2])/100.\n",
    "    # drop column\n",
    "    if ord(rand_str[3]) % 2 == 1:\n",
    "        dataframe = dataframe.drop(['region'], axis=1)\n",
    "    return dataframe"
   ]
  },
  {
   "cell_type": "code",
   "execution_count": 7,
   "metadata": {},
   "outputs": [
    {
     "data": {
      "text/html": [
       "<div>\n",
       "<style scoped>\n",
       "    .dataframe tbody tr th:only-of-type {\n",
       "        vertical-align: middle;\n",
       "    }\n",
       "\n",
       "    .dataframe tbody tr th {\n",
       "        vertical-align: top;\n",
       "    }\n",
       "\n",
       "    .dataframe thead th {\n",
       "        text-align: right;\n",
       "    }\n",
       "</style>\n",
       "<table border=\"1\" class=\"dataframe\">\n",
       "  <thead>\n",
       "    <tr style=\"text-align: right;\">\n",
       "      <th></th>\n",
       "      <th>age</th>\n",
       "      <th>sex</th>\n",
       "      <th>bmi</th>\n",
       "      <th>children</th>\n",
       "      <th>smoker</th>\n",
       "      <th>charges</th>\n",
       "    </tr>\n",
       "  </thead>\n",
       "  <tbody>\n",
       "    <tr>\n",
       "      <th>1307</th>\n",
       "      <td>32</td>\n",
       "      <td>male</td>\n",
       "      <td>27.27640</td>\n",
       "      <td>4</td>\n",
       "      <td>yes</td>\n",
       "      <td>23405.001892</td>\n",
       "    </tr>\n",
       "    <tr>\n",
       "      <th>654</th>\n",
       "      <td>59</td>\n",
       "      <td>female</td>\n",
       "      <td>34.14400</td>\n",
       "      <td>0</td>\n",
       "      <td>no</td>\n",
       "      <td>13346.538790</td>\n",
       "    </tr>\n",
       "    <tr>\n",
       "      <th>1169</th>\n",
       "      <td>37</td>\n",
       "      <td>female</td>\n",
       "      <td>33.08185</td>\n",
       "      <td>1</td>\n",
       "      <td>no</td>\n",
       "      <td>6662.464716</td>\n",
       "    </tr>\n",
       "    <tr>\n",
       "      <th>570</th>\n",
       "      <td>31</td>\n",
       "      <td>female</td>\n",
       "      <td>28.22700</td>\n",
       "      <td>0</td>\n",
       "      <td>no</td>\n",
       "      <td>4099.808280</td>\n",
       "    </tr>\n",
       "    <tr>\n",
       "      <th>633</th>\n",
       "      <td>40</td>\n",
       "      <td>male</td>\n",
       "      <td>22.02385</td>\n",
       "      <td>2</td>\n",
       "      <td>no</td>\n",
       "      <td>7818.962346</td>\n",
       "    </tr>\n",
       "  </tbody>\n",
       "</table>\n",
       "</div>"
      ],
      "text/plain": [
       "      age     sex       bmi  children smoker       charges\n",
       "1307   32    male  27.27640         4    yes  23405.001892\n",
       "654    59  female  34.14400         0     no  13346.538790\n",
       "1169   37  female  33.08185         1     no   6662.464716\n",
       "570    31  female  28.22700         0     no   4099.808280\n",
       "633    40    male  22.02385         2     no   7818.962346"
      ]
     },
     "execution_count": 7,
     "metadata": {},
     "output_type": "execute_result"
    }
   ],
   "source": [
    "dataframe = customize_dataset(dataframe_raw, your_name)\n",
    "dataframe.head()"
   ]
  },
  {
   "cell_type": "markdown",
   "metadata": {},
   "source": [
    "Let us answer some basic questions about the dataset. \n",
    "\n",
    "\n",
    "**Q: How many rows does the dataset have?**"
   ]
  },
  {
   "cell_type": "code",
   "execution_count": 8,
   "metadata": {},
   "outputs": [
    {
     "name": "stdout",
     "output_type": "stream",
     "text": [
      "1271\n"
     ]
    }
   ],
   "source": [
    "num_rows = dataframe.sex.size\n",
    "print(num_rows)"
   ]
  },
  {
   "cell_type": "markdown",
   "metadata": {},
   "source": [
    "**Q: How many columns doe the dataset have**"
   ]
  },
  {
   "cell_type": "code",
   "execution_count": 9,
   "metadata": {},
   "outputs": [
    {
     "name": "stdout",
     "output_type": "stream",
     "text": [
      "6\n"
     ]
    }
   ],
   "source": [
    "num_cols = dataframe.columns.size\n",
    "print(num_cols)"
   ]
  },
  {
   "cell_type": "markdown",
   "metadata": {},
   "source": [
    "**Q: What are the column titles of the input variables?**"
   ]
  },
  {
   "cell_type": "code",
   "execution_count": 10,
   "metadata": {},
   "outputs": [
    {
     "name": "stdout",
     "output_type": "stream",
     "text": [
      "['age', 'sex', 'bmi', 'children', 'smoker']\n"
     ]
    }
   ],
   "source": [
    "input_cols = list(dataframe.columns.values)\n",
    "input_cols.remove('charges')\n",
    "print(input_cols)"
   ]
  },
  {
   "cell_type": "markdown",
   "metadata": {},
   "source": [
    "**Q: Which of the input columns are non-numeric or categorial variables ?**\n",
    "\n",
    "Hint: `sex` is one of them. List the columns that are not numbers."
   ]
  },
  {
   "cell_type": "code",
   "execution_count": 11,
   "metadata": {},
   "outputs": [
    {
     "name": "stdout",
     "output_type": "stream",
     "text": [
      "['sex', 'smoker']\n"
     ]
    }
   ],
   "source": [
    "categorical_cols = dataframe.select_dtypes('object').columns.to_list()\n",
    "print(categorical_cols)"
   ]
  },
  {
   "cell_type": "markdown",
   "metadata": {},
   "source": [
    "**Q: What are the column titles of output/target variable(s)?**"
   ]
  },
  {
   "cell_type": "code",
   "execution_count": 12,
   "metadata": {},
   "outputs": [
    {
     "data": {
      "text/plain": [
       "['charges']"
      ]
     },
     "execution_count": 12,
     "metadata": {},
     "output_type": "execute_result"
    }
   ],
   "source": [
    "output_cols = [\"charges\"]\n",
    "output_cols"
   ]
  },
  {
   "cell_type": "markdown",
   "metadata": {},
   "source": [
    "**Q: (Optional) What is the minimum, maximum and average value of the `charges` column? Can you show the distribution of values in a graph?**\n",
    "Use this data visualization cheatsheet for referece: https://jovian.ml/aakashns/dataviz-cheatsheet"
   ]
  },
  {
   "cell_type": "code",
   "execution_count": 13,
   "metadata": {},
   "outputs": [
    {
     "data": {
      "text/plain": [
       "count     1271.000000\n",
       "mean     14541.768206\n",
       "std      13300.178777\n",
       "min       1222.842551\n",
       "25%       5169.113649\n",
       "50%      10236.567140\n",
       "75%      18490.904643\n",
       "max      69509.766531\n",
       "Name: charges, dtype: float64"
      ]
     },
     "execution_count": 13,
     "metadata": {},
     "output_type": "execute_result"
    }
   ],
   "source": [
    "# Write your answer here\n",
    "dataframe['charges'].describe()"
   ]
  },
  {
   "cell_type": "code",
   "execution_count": 14,
   "metadata": {},
   "outputs": [
    {
     "data": {
      "text/plain": [
       "Text(0.5, 1.0, 'Distribution of Charges')"
      ]
     },
     "execution_count": 14,
     "metadata": {},
     "output_type": "execute_result"
    },
    {
     "data": {
      "image/png": "[encoded data removed]",
      "text/plain": [
       "<Figure size 432x288 with 1 Axes>"
      ]
     },
     "metadata": {
      "needs_background": "light"
     },
     "output_type": "display_data"
    }
   ],
   "source": [
    "dataframe['charges'].plot(kind ='hist')\n",
    "plt.title(\"Distribution of Charges\")"
   ]
  },
  {
   "cell_type": "markdown",
   "metadata": {},
   "source": [
    "Remember to commit your notebook to Jovian after every step, so that you don't lose your work."
   ]
  },
  {
   "cell_type": "code",
   "execution_count": null,
   "metadata": {},
   "outputs": [],
   "source": [
    "jovian.commit(project=project_name, environment=None)"
   ]
  },
  {
   "cell_type": "markdown",
   "metadata": {},
   "source": [
    "## Step 2: Prepare the dataset for training\n",
    "\n",
    "We need to convert the data from the Pandas dataframe into a PyTorch tensors for training. To do this, the first step is to convert it numpy arrays. If you've filled out `input_cols`, `categorial_cols` and `output_cols` correctly, this following function will perform the conversion to numpy arrays."
   ]
  },
  {
   "cell_type": "code",
   "execution_count": 15,
   "metadata": {},
   "outputs": [],
   "source": [
    "def dataframe_to_arrays(dataframe):\n",
    "    # Make a copy of the original dataframe\n",
    "    dataframe1 = dataframe.copy(deep=True)\n",
    "    # Convert non-numeric categorical columns to numbers\n",
    "    for col in categorical_cols:\n",
    "        dataframe1[col] = dataframe1[col].astype('category').cat.codes\n",
    "    # Extract input & outupts as numpy arrays\n",
    "    inputs_array = dataframe1[input_cols].to_numpy()\n",
    "    targets_array = dataframe1[output_cols].to_numpy()\n",
    "    return inputs_array, targets_array"
   ]
  },
  {
   "cell_type": "markdown",
   "metadata": {},
   "source": [
    "Read through the [Pandas documentation](https://pandas.pydata.org/pandas-docs/stable/user_guide/categorical.html) to understand how we're converting categorical variables into numbers."
   ]
  },
  {
   "cell_type": "code",
   "execution_count": 16,
   "metadata": {},
   "outputs": [
    {
     "data": {
      "text/plain": [
       "(array([[32.     ,  1.     , 27.2764 ,  4.     ,  1.     ],\n",
       "        [59.     ,  0.     , 34.144  ,  0.     ,  0.     ],\n",
       "        [37.     ,  0.     , 33.08185,  1.     ,  0.     ],\n",
       "        ...,\n",
       "        [57.     ,  0.     , 19.497  ,  1.     ,  0.     ],\n",
       "        [23.     ,  1.     , 33.368  ,  0.     ,  0.     ],\n",
       "        [57.     ,  0.     , 23.2606 ,  1.     ,  0.     ]]),\n",
       " array([[23405.001892 ],\n",
       "        [13346.53879  ],\n",
       "        [ 6662.4647155],\n",
       "        ...,\n",
       "        [13115.23534  ],\n",
       "        [ 1991.25887  ],\n",
       "        [24189.7564499]]))"
      ]
     },
     "execution_count": 16,
     "metadata": {},
     "output_type": "execute_result"
    }
   ],
   "source": [
    "inputs_array, targets_array = dataframe_to_arrays(dataframe)\n",
    "inputs_array, targets_array"
   ]
  },
  {
   "cell_type": "markdown",
   "metadata": {},
   "source": [
    "**Q: Convert the numpy arrays `inputs_array` and `targets_array` into PyTorch tensors. Make sure that the data type is `torch.float32`.**"
   ]
  },
  {
   "cell_type": "code",
   "execution_count": 17,
   "metadata": {},
   "outputs": [],
   "source": [
    "inputs = torch.from_numpy(inputs_array)\n",
    "targets = torch.from_numpy(targets_array)\n",
    "inputs, targets = inputs.type(torch.float32), targets.type(torch.float32)"
   ]
  },
  {
   "cell_type": "code",
   "execution_count": 18,
   "metadata": {},
   "outputs": [
    {
     "data": {
      "text/plain": [
       "(torch.float32, torch.float32)"
      ]
     },
     "execution_count": 18,
     "metadata": {},
     "output_type": "execute_result"
    }
   ],
   "source": [
    "inputs.dtype, targets.dtype"
   ]
  },
  {
   "cell_type": "markdown",
   "metadata": {},
   "source": [
    "Next, we need to create PyTorch datasets & data loaders for training & validation. We'll start by creating a `TensorDataset`."
   ]
  },
  {
   "cell_type": "code",
   "execution_count": 19,
   "metadata": {},
   "outputs": [],
   "source": [
    "dataset = TensorDataset(inputs, targets)"
   ]
  },
  {
   "cell_type": "markdown",
   "metadata": {},
   "source": [
    "**Q: Pick a number between `0.1` and `0.2` to determine the fraction of data that will be used for creating the validation set. Then use `random_split` to create training & validation datasets. **"
   ]
  },
  {
   "cell_type": "code",
   "execution_count": 71,
   "metadata": {},
   "outputs": [],
   "source": [
    "val_percent = 0.15 # between 0.1 and 0.2\n",
    "val_size = int(num_rows * val_percent)\n",
    "train_size = num_rows - val_size\n",
    "\n",
    "\n",
    "train_ds, val_ds = random_split(dataset,[train_size,val_size])\n",
    "# Use the random_split function to split dataset into 2 parts of the desired length"
   ]
  },
  {
   "cell_type": "markdown",
   "metadata": {},
   "source": [
    "Finally, we can create data loaders for training & validation.\n",
    "\n",
    "**Q: Pick a batch size for the data loader.**"
   ]
  },
  {
   "cell_type": "code",
   "execution_count": 79,
   "metadata": {},
   "outputs": [],
   "source": [
    "batch_size = 256"
   ]
  },
  {
   "cell_type": "code",
   "execution_count": 80,
   "metadata": {},
   "outputs": [],
   "source": [
    "train_loader = DataLoader(train_ds, batch_size, shuffle=True)\n",
    "val_loader = DataLoader(val_ds, batch_size)"
   ]
  },
  {
   "cell_type": "markdown",
   "metadata": {},
   "source": [
    "Let's look at a batch of data to verify everything is working fine so far."
   ]
  },
  {
   "cell_type": "code",
   "execution_count": 81,
   "metadata": {},
   "outputs": [
    {
     "name": "stdout",
     "output_type": "stream",
     "text": [
      "inputs: tensor([[29.0000,  0.0000, 30.2252,  0.0000,  0.0000],\n",
      "        [40.0000,  1.0000, 22.0238,  2.0000,  0.0000],\n",
      "        [33.0000,  1.0000, 34.6775,  1.0000,  1.0000],\n",
      "        ...,\n",
      "        [26.0000,  1.0000, 31.5153,  1.0000,  0.0000],\n",
      "        [34.0000,  1.0000, 33.6348,  0.0000,  0.0000],\n",
      "        [54.0000,  1.0000, 33.1837,  2.0000,  1.0000]])\n",
      "targets: tensor([[ 4298.5190],\n",
      "        [ 7818.9624],\n",
      "        [41728.1953],\n",
      "        [38324.5469],\n",
      "        [12323.4688],\n",
      "        [ 4208.7188],\n",
      "        [ 5717.2974],\n",
      "        [24136.9941],\n",
      "        [13887.8721],\n",
      "        [ 5178.6665],\n",
      "        [ 9572.8916],\n",
      "        [13602.8828],\n",
      "        [ 4812.5229],\n",
      "        [ 3655.0796],\n",
      "        [ 1861.7216],\n",
      "        [10486.1602],\n",
      "        [ 1767.8522],\n",
      "        [ 3588.8574],\n",
      "        [13968.8350],\n",
      "        [ 3457.4995],\n",
      "        [48598.1484],\n",
      "        [13687.7900],\n",
      "        [11016.8701],\n",
      "        [ 4840.9224],\n",
      "        [13322.9590],\n",
      "        [11964.1074],\n",
      "        [50922.7969],\n",
      "        [ 2163.0542],\n",
      "        [20669.8574],\n",
      "        [19863.5625],\n",
      "        [48658.9062],\n",
      "        [ 6503.9072],\n",
      "        [ 4561.7568],\n",
      "        [ 2954.8032],\n",
      "        [15883.3613],\n",
      "        [22651.8223],\n",
      "        [10947.1416],\n",
      "        [19902.5449],\n",
      "        [10748.5176],\n",
      "        [ 7775.9536],\n",
      "        [13372.8096],\n",
      "        [12170.3057],\n",
      "        [ 4312.1177],\n",
      "        [ 9617.3740],\n",
      "        [ 5335.2812],\n",
      "        [43176.8164],\n",
      "        [ 3457.0603],\n",
      "        [ 5484.0840],\n",
      "        [13221.2793],\n",
      "        [ 5316.9995],\n",
      "        [ 8425.3135],\n",
      "        [ 2762.4893],\n",
      "        [37792.6406],\n",
      "        [21251.4238],\n",
      "        [ 2721.7717],\n",
      "        [21443.9355],\n",
      "        [ 1670.3920],\n",
      "        [ 6964.4219],\n",
      "        [ 9590.4668],\n",
      "        [39673.3594],\n",
      "        [13705.7139],\n",
      "        [ 3241.7974],\n",
      "        [ 9404.0195],\n",
      "        [ 7465.4385],\n",
      "        [ 3878.8960],\n",
      "        [ 4096.0508],\n",
      "        [ 4855.2988],\n",
      "        [30219.4746],\n",
      "        [10578.0879],\n",
      "        [15390.3857],\n",
      "        [15009.4062],\n",
      "        [26276.5352],\n",
      "        [ 4982.8403],\n",
      "        [28459.1680],\n",
      "        [24518.0898],\n",
      "        [ 9786.2217],\n",
      "        [ 2797.4531],\n",
      "        [ 7085.2573],\n",
      "        [13758.1758],\n",
      "        [10742.0928],\n",
      "        [14326.8125],\n",
      "        [ 5726.3413],\n",
      "        [23538.9668],\n",
      "        [ 5735.0015],\n",
      "        [ 8313.4229],\n",
      "        [12256.3711],\n",
      "        [ 1880.8521],\n",
      "        [31031.1211],\n",
      "        [19070.9727],\n",
      "        [30456.0039],\n",
      "        [ 5265.3867],\n",
      "        [ 4257.6782],\n",
      "        [ 2574.8296],\n",
      "        [ 1354.0634],\n",
      "        [38225.6172],\n",
      "        [ 1825.3492],\n",
      "        [ 5611.9224],\n",
      "        [13128.3330],\n",
      "        [ 1778.5184],\n",
      "        [ 7806.5933],\n",
      "        [35680.2617],\n",
      "        [32180.2500],\n",
      "        [ 3462.7292],\n",
      "        [12617.9814],\n",
      "        [ 7984.3027],\n",
      "        [14553.7891],\n",
      "        [15192.0566],\n",
      "        [ 1780.0184],\n",
      "        [39446.1211],\n",
      "        [ 6512.0791],\n",
      "        [20456.8340],\n",
      "        [ 2201.9929],\n",
      "        [ 8116.0508],\n",
      "        [ 9202.5068],\n",
      "        [12266.2285],\n",
      "        [15777.3955],\n",
      "        [53284.7969],\n",
      "        [ 4864.8936],\n",
      "        [15261.4023],\n",
      "        [60097.5898],\n",
      "        [ 6674.6899],\n",
      "        [ 7797.3735],\n",
      "        [14392.6709],\n",
      "        [23143.0781],\n",
      "        [11510.9355],\n",
      "        [31466.8438],\n",
      "        [44661.8398],\n",
      "        [20498.6992],\n",
      "        [47501.0430],\n",
      "        [14050.1631],\n",
      "        [11907.0869],\n",
      "        [ 2695.9341],\n",
      "        [11053.8389],\n",
      "        [ 3553.6169],\n",
      "        [20497.1797],\n",
      "        [27587.3438],\n",
      "        [ 4709.2480],\n",
      "        [ 1778.9196],\n",
      "        [ 8326.9648],\n",
      "        [11360.9795],\n",
      "        [13744.7764],\n",
      "        [13609.5234],\n",
      "        [43421.8047],\n",
      "        [12908.4600],\n",
      "        [18079.2832],\n",
      "        [ 6680.3892],\n",
      "        [21278.9453],\n",
      "        [ 2322.4368],\n",
      "        [ 6629.8213],\n",
      "        [10117.9043],\n",
      "        [45724.6758],\n",
      "        [ 2202.4021],\n",
      "        [ 1988.4711],\n",
      "        [ 1782.9497],\n",
      "        [ 2399.1958],\n",
      "        [ 2146.8792],\n",
      "        [25949.8926],\n",
      "        [ 9098.4092],\n",
      "        [20534.1875],\n",
      "        [22572.8320],\n",
      "        [ 7794.6904],\n",
      "        [23103.4414],\n",
      "        [ 8111.2363],\n",
      "        [12419.5312],\n",
      "        [ 6222.9893],\n",
      "        [ 4404.2085],\n",
      "        [13194.7988],\n",
      "        [11025.3594],\n",
      "        [12026.6914],\n",
      "        [11193.7109],\n",
      "        [ 2291.4685],\n",
      "        [ 2327.0427],\n",
      "        [12923.4883],\n",
      "        [ 5181.4644],\n",
      "        [13332.4590],\n",
      "        [ 1883.0186],\n",
      "        [ 1834.0308],\n",
      "        [ 2361.7378],\n",
      "        [ 2457.7285],\n",
      "        [45411.1445],\n",
      "        [15172.6074],\n",
      "        [ 3165.4558],\n",
      "        [10123.9492],\n",
      "        [ 3575.0566],\n",
      "        [13433.0898],\n",
      "        [ 3914.7131],\n",
      "        [12895.3623],\n",
      "        [18404.5664],\n",
      "        [15066.8555],\n",
      "        [15489.4844],\n",
      "        [ 7919.6157],\n",
      "        [19792.0840],\n",
      "        [ 9486.7666],\n",
      "        [43603.6328],\n",
      "        [ 4353.6538],\n",
      "        [ 2876.5566],\n",
      "        [ 4224.5503],\n",
      "        [12556.9092],\n",
      "        [42561.5391],\n",
      "        [11515.7236],\n",
      "        [ 9049.7637],\n",
      "        [ 1906.1637],\n",
      "        [26679.3613],\n",
      "        [27989.8691],\n",
      "        [ 4226.2617],\n",
      "        [15750.3408],\n",
      "        [38788.2773],\n",
      "        [11374.2207],\n",
      "        [ 4302.6802],\n",
      "        [17253.4160],\n",
      "        [ 8035.2314],\n",
      "        [ 9022.5000],\n",
      "        [23609.3242],\n",
      "        [ 2509.5071],\n",
      "        [ 1365.1237],\n",
      "        [12592.6650],\n",
      "        [ 4682.9355],\n",
      "        [ 3495.0757],\n",
      "        [ 9219.0215],\n",
      "        [12316.2842],\n",
      "        [11965.1553],\n",
      "        [50263.7266],\n",
      "        [21297.7754],\n",
      "        [ 2401.7844],\n",
      "        [21194.2500],\n",
      "        [ 1991.2589],\n",
      "        [36768.6289],\n",
      "        [ 6663.4219],\n",
      "        [ 5453.0332],\n",
      "        [49824.1250],\n",
      "        [43116.5781],\n",
      "        [50418.0742],\n",
      "        [ 8750.4854],\n",
      "        [43303.0977],\n",
      "        [53056.3125],\n",
      "        [13346.5391],\n",
      "        [ 5080.8022],\n",
      "        [ 3462.1536],\n",
      "        [13111.9229],\n",
      "        [ 1917.6785],\n",
      "        [ 8188.3711],\n",
      "        [46111.0234],\n",
      "        [12422.6211],\n",
      "        [23758.7305],\n",
      "        [ 9204.4766],\n",
      "        [ 5586.4854],\n",
      "        [14149.6670],\n",
      "        [15602.0928],\n",
      "        [ 8215.5088],\n",
      "        [ 9308.2412],\n",
      "        [ 6158.1895],\n",
      "        [ 5971.0601],\n",
      "        [10262.2627],\n",
      "        [ 3804.6985],\n",
      "        [ 4925.5205],\n",
      "        [48244.2188]])\n"
     ]
    }
   ],
   "source": [
    "for xb, yb in train_loader:\n",
    "    print(\"inputs:\", xb)\n",
    "    print(\"targets:\", yb)\n",
    "    break"
   ]
  },
  {
   "cell_type": "markdown",
   "metadata": {},
   "source": [
    "Let's save our work by committing to Jovian."
   ]
  },
  {
   "cell_type": "code",
   "execution_count": 33,
   "metadata": {},
   "outputs": [
    {
     "data": {
      "application/javascript": [
       "window.require && require([\"base/js/namespace\"],function(Jupyter){Jupyter.notebook.save_checkpoint()})"
      ],
      "text/plain": [
       "<IPython.core.display.Javascript object>"
      ]
     },
     "metadata": {},
     "output_type": "display_data"
    },
    {
     "name": "stdout",
     "output_type": "stream",
     "text": [
      "[jovian] Attempting to save notebook..\u001b[0m\n",
      "[jovian] Updating notebook \"kamya1622/02-insurance-linear-regression\" on https://jovian.ml/\u001b[0m\n",
      "[jovian] Uploading notebook..\u001b[0m\n",
      "[jovian] Attaching records (metrics, hyperparameters, dataset etc.)\u001b[0m\n",
      "[jovian] Committed successfully! https://jovian.ml/kamya1622/02-insurance-linear-regression\u001b[0m\n"
     ]
    },
    {
     "data": {
      "text/plain": [
       "'https://jovian.ml/kamya1622/02-insurance-linear-regression'"
      ]
     },
     "execution_count": 33,
     "metadata": {},
     "output_type": "execute_result"
    }
   ],
   "source": [
    "jovian.commit(project=project_name, environment=None)"
   ]
  },
  {
   "cell_type": "markdown",
   "metadata": {},
   "source": [
    "## Step 3: Create a Linear Regression Model\n",
    "\n",
    "Our model itself is a fairly straightforward linear regression (we'll build more complex models in the next assignment). \n"
   ]
  },
  {
   "cell_type": "code",
   "execution_count": 82,
   "metadata": {},
   "outputs": [
    {
     "data": {
      "text/plain": [
       "(5, 1)"
      ]
     },
     "execution_count": 82,
     "metadata": {},
     "output_type": "execute_result"
    }
   ],
   "source": [
    "input_size = len(input_cols)\n",
    "output_size = len(output_cols)\n",
    "input_size, output_size"
   ]
  },
  {
   "cell_type": "markdown",
   "metadata": {},
   "source": [
    "**Q: Complete the class definition below by filling out the constructor (`__init__`), `forward`, `training_step` and `validation_step` methods.**\n",
    "\n",
    "Hint: Think carefully about picking a good loss fuction (it's not cross entropy). Maybe try 2-3 of them and see which one works best. See https://pytorch.org/docs/stable/nn.functional.html#loss-functions"
   ]
  },
  {
   "cell_type": "code",
   "execution_count": 76,
   "metadata": {},
   "outputs": [],
   "source": [
    "class InsuranceModel(nn.Module):\n",
    "    def __init__(self):\n",
    "        super().__init__()\n",
    "        self.linear = nn.Linear(input_size,output_size)   # fill this (hint: use input_size & output_size defined above)\n",
    "        \n",
    "    def forward(self, xb):\n",
    "        out = self.linear(xb)                           # fill this\n",
    "        return out\n",
    "    \n",
    "    def training_step(self, batch):\n",
    "        inputs, targets = batch \n",
    "        # Generate predictions\n",
    "        out = self(inputs)          \n",
    "        # Calcuate loss\n",
    "        loss = F.l1_loss(out,targets)                          # fill this\n",
    "        return loss\n",
    "    \n",
    "    def validation_step(self, batch):\n",
    "        inputs, targets = batch\n",
    "        # Generate predictions\n",
    "        out = self(inputs)\n",
    "        # Calculate loss\n",
    "        loss = F.l1_loss(out, targets)                             # fill this    \n",
    "        return {'val_loss': loss.detach()}\n",
    "        \n",
    "    def validation_epoch_end(self, outputs):\n",
    "        batch_losses = [x['val_loss'] for x in outputs]\n",
    "        epoch_loss = torch.stack(batch_losses).mean()   # Combine losses\n",
    "        return {'val_loss': epoch_loss.item()}\n",
    "    \n",
    "    def epoch_end(self, epoch, result, num_epochs):\n",
    "        # Print result every 20th epoch\n",
    "        if (epoch+1) % 20 == 0 or epoch == num_epochs-1:\n",
    "            print(\"Epoch [{}], val_loss: {:.4f}\".format(epoch+1, result['val_loss']))"
   ]
  },
  {
   "cell_type": "markdown",
   "metadata": {},
   "source": [
    "Let us create a model using the `InsuranceModel` class. You may need to come back later and re-run the next cell to reinitialize the model, in case the loss becomes `nan` or `infinity`."
   ]
  },
  {
   "cell_type": "code",
   "execution_count": 83,
   "metadata": {},
   "outputs": [],
   "source": [
    "model = InsuranceModel()"
   ]
  },
  {
   "cell_type": "markdown",
   "metadata": {},
   "source": [
    "Let's check out the weights and biases of the model using `model.parameters`."
   ]
  },
  {
   "cell_type": "code",
   "execution_count": 84,
   "metadata": {},
   "outputs": [
    {
     "data": {
      "text/plain": [
       "[Parameter containing:\n",
       " tensor([[0.1104, 0.1502, 0.1265, 0.2456, 0.4204]], requires_grad=True),\n",
       " Parameter containing:\n",
       " tensor([0.4129], requires_grad=True)]"
      ]
     },
     "execution_count": 84,
     "metadata": {},
     "output_type": "execute_result"
    }
   ],
   "source": [
    "list(model.parameters())"
   ]
  },
  {
   "cell_type": "markdown",
   "metadata": {},
   "source": [
    "One final commit before we train the model."
   ]
  },
  {
   "cell_type": "code",
   "execution_count": 59,
   "metadata": {},
   "outputs": [
    {
     "data": {
      "application/javascript": [
       "window.require && require([\"base/js/namespace\"],function(Jupyter){Jupyter.notebook.save_checkpoint()})"
      ],
      "text/plain": [
       "<IPython.core.display.Javascript object>"
      ]
     },
     "metadata": {},
     "output_type": "display_data"
    },
    {
     "name": "stdout",
     "output_type": "stream",
     "text": [
      "[jovian] Attempting to save notebook..\u001b[0m\n",
      "[jovian] Updating notebook \"kamya1622/02-insurance-linear-regression\" on https://jovian.ml/\u001b[0m\n",
      "[jovian] Uploading notebook..\u001b[0m\n",
      "[jovian] Committed successfully! https://jovian.ml/kamya1622/02-insurance-linear-regression\u001b[0m\n"
     ]
    },
    {
     "data": {
      "text/plain": [
       "'https://jovian.ml/kamya1622/02-insurance-linear-regression'"
      ]
     },
     "execution_count": 59,
     "metadata": {},
     "output_type": "execute_result"
    }
   ],
   "source": [
    "jovian.commit(project=project_name, environment=None)"
   ]
  },
  {
   "cell_type": "markdown",
   "metadata": {},
   "source": [
    "## Step 4: Train the model to fit the data\n",
    "\n",
    "To train our model, we'll use the same `fit` function explained in the lecture. That's the benefit of defining a generic training loop - you can use it for any problem."
   ]
  },
  {
   "cell_type": "code",
   "execution_count": 85,
   "metadata": {},
   "outputs": [],
   "source": [
    "def evaluate(model, val_loader):\n",
    "    outputs = [model.validation_step(batch) for batch in val_loader]\n",
    "    return model.validation_epoch_end(outputs)\n",
    "\n",
    "def fit(epochs, lr, model, train_loader, val_loader, opt_func=torch.optim.SGD):\n",
    "    history = []\n",
    "    optimizer = opt_func(model.parameters(), lr)\n",
    "    for epoch in range(epochs):\n",
    "        # Training Phase \n",
    "        for batch in train_loader:\n",
    "            loss = model.training_step(batch)\n",
    "            loss.backward()\n",
    "            optimizer.step()\n",
    "            optimizer.zero_grad()\n",
    "        # Validation phase\n",
    "        result = evaluate(model, val_loader)\n",
    "        model.epoch_end(epoch, result, epochs)\n",
    "        history.append(result)\n",
    "    return history"
   ]
  },
  {
   "cell_type": "markdown",
   "metadata": {},
   "source": [
    "**Q: Use the `evaluate` function to calculate the loss on the validation set before training.**"
   ]
  },
  {
   "cell_type": "code",
   "execution_count": 86,
   "metadata": {},
   "outputs": [
    {
     "name": "stdout",
     "output_type": "stream",
     "text": [
      "{'val_loss': 14888.7001953125}\n"
     ]
    }
   ],
   "source": [
    "result = evaluate(model,val_loader)   # Use the the evaluate function\n",
    "print(result)"
   ]
  },
  {
   "cell_type": "markdown",
   "metadata": {},
   "source": [
    "\n",
    "We are now ready to train the model. You may need to run the training loop many times, for different number of epochs and with different learning rates, to get a good result. Also, if your loss becomes too large (or `nan`), you may have to re-initialize the model by running the cell `model = InsuranceModel()`. Experiment with this for a while, and try to get to as low a loss as possible."
   ]
  },
  {
   "cell_type": "markdown",
   "metadata": {},
   "source": [
    "**Q: Train the model 4-5 times with different learning rates & for different number of epochs.**\n",
    "\n",
    "Hint: Vary learning rates by orders of 10 (e.g. `1e-2`, `1e-3`, `1e-4`, `1e-5`, `1e-6`) to figure out what works."
   ]
  },
  {
   "cell_type": "code",
   "execution_count": 87,
   "metadata": {},
   "outputs": [
    {
     "name": "stdout",
     "output_type": "stream",
     "text": [
      "Epoch [20], val_loss: 14646.5635\n",
      "Epoch [40], val_loss: 14404.4404\n",
      "Epoch [60], val_loss: 14162.2676\n",
      "Epoch [80], val_loss: 13919.9688\n",
      "Epoch [100], val_loss: 13677.5947\n"
     ]
    }
   ],
   "source": [
    "epochs = 100\n",
    "lr = 1e-3\n",
    "history1 = fit(epochs, lr, model, train_loader, val_loader)"
   ]
  },
  {
   "cell_type": "code",
   "execution_count": 88,
   "metadata": {},
   "outputs": [
    {
     "name": "stdout",
     "output_type": "stream",
     "text": [
      "Epoch [20], val_loss: 8519.8164\n",
      "Epoch [40], val_loss: 8385.3496\n",
      "Epoch [60], val_loss: 8263.0312\n",
      "Epoch [80], val_loss: 8146.4961\n",
      "Epoch [100], val_loss: 8052.8374\n",
      "Epoch [120], val_loss: 7980.8574\n",
      "Epoch [140], val_loss: 7933.6982\n",
      "Epoch [160], val_loss: 7910.2847\n",
      "Epoch [180], val_loss: 7896.2646\n",
      "Epoch [200], val_loss: 7886.6021\n"
     ]
    }
   ],
   "source": [
    "epochs = 200\n",
    "lr = 1e-1\n",
    "history2 = fit(epochs, lr, model, train_loader, val_loader)"
   ]
  },
  {
   "cell_type": "code",
   "execution_count": 89,
   "metadata": {},
   "outputs": [
    {
     "name": "stdout",
     "output_type": "stream",
     "text": [
      "Epoch [20], val_loss: 7881.4658\n",
      "Epoch [40], val_loss: 7880.2627\n",
      "Epoch [60], val_loss: 7878.5947\n",
      "Epoch [80], val_loss: 7874.5073\n",
      "Epoch [100], val_loss: 7873.0664\n",
      "Epoch [120], val_loss: 7871.4312\n",
      "Epoch [140], val_loss: 7871.5259\n",
      "Epoch [160], val_loss: 7868.1704\n",
      "Epoch [180], val_loss: 7869.4980\n",
      "Epoch [200], val_loss: 7866.8726\n",
      "Epoch [220], val_loss: 7866.2920\n",
      "Epoch [240], val_loss: 7866.2539\n",
      "Epoch [260], val_loss: 7866.4912\n",
      "Epoch [280], val_loss: 7864.7173\n",
      "Epoch [300], val_loss: 7862.3071\n"
     ]
    }
   ],
   "source": [
    "epochs = 300\n",
    "lr = 1e-1\n",
    "history3 = fit(epochs, lr, model, train_loader, val_loader)"
   ]
  },
  {
   "cell_type": "code",
   "execution_count": 90,
   "metadata": {},
   "outputs": [
    {
     "name": "stdout",
     "output_type": "stream",
     "text": [
      "Epoch [20], val_loss: 7863.2031\n",
      "Epoch [40], val_loss: 7859.2827\n",
      "Epoch [60], val_loss: 7859.3730\n",
      "Epoch [80], val_loss: 7859.1157\n",
      "Epoch [100], val_loss: 7858.6636\n",
      "Epoch [120], val_loss: 7857.0659\n",
      "Epoch [140], val_loss: 7857.2485\n",
      "Epoch [160], val_loss: 7854.4834\n",
      "Epoch [180], val_loss: 7854.0225\n",
      "Epoch [200], val_loss: 7852.5308\n",
      "Epoch [220], val_loss: 7854.1538\n",
      "Epoch [240], val_loss: 7851.7217\n",
      "Epoch [260], val_loss: 7848.6011\n",
      "Epoch [280], val_loss: 7850.3521\n",
      "Epoch [300], val_loss: 7849.7632\n",
      "Epoch [320], val_loss: 7847.2822\n",
      "Epoch [340], val_loss: 7845.0176\n",
      "Epoch [360], val_loss: 7843.1211\n",
      "Epoch [380], val_loss: 7843.8857\n",
      "Epoch [400], val_loss: 7841.5625\n"
     ]
    }
   ],
   "source": [
    "epochs = 400\n",
    "lr = 1e-1\n",
    "history4 = fit(epochs, lr, model, train_loader, val_loader)"
   ]
  },
  {
   "cell_type": "code",
   "execution_count": 91,
   "metadata": {},
   "outputs": [
    {
     "name": "stdout",
     "output_type": "stream",
     "text": [
      "Epoch [20], val_loss: 7841.6455\n",
      "Epoch [40], val_loss: 7839.8340\n",
      "Epoch [60], val_loss: 7838.1362\n",
      "Epoch [80], val_loss: 7838.6685\n",
      "Epoch [100], val_loss: 7837.3735\n",
      "Epoch [120], val_loss: 7837.1270\n",
      "Epoch [140], val_loss: 7835.9429\n",
      "Epoch [160], val_loss: 7836.5781\n",
      "Epoch [180], val_loss: 7833.9604\n",
      "Epoch [200], val_loss: 7833.7090\n",
      "Epoch [220], val_loss: 7831.1553\n",
      "Epoch [240], val_loss: 7830.8071\n",
      "Epoch [260], val_loss: 7830.9893\n",
      "Epoch [280], val_loss: 7830.1084\n",
      "Epoch [300], val_loss: 7829.6143\n",
      "Epoch [320], val_loss: 7828.1226\n",
      "Epoch [340], val_loss: 7827.6460\n",
      "Epoch [360], val_loss: 7826.6973\n",
      "Epoch [380], val_loss: 7824.9355\n",
      "Epoch [400], val_loss: 7823.4565\n",
      "Epoch [420], val_loss: 7823.5913\n",
      "Epoch [440], val_loss: 7822.3784\n",
      "Epoch [460], val_loss: 7821.5479\n",
      "Epoch [480], val_loss: 7820.2666\n",
      "Epoch [500], val_loss: 7818.9316\n"
     ]
    }
   ],
   "source": [
    "epochs = 500\n",
    "lr = 1e-1\n",
    "history5 = fit(epochs, lr, model, train_loader, val_loader)"
   ]
  },
  {
   "cell_type": "markdown",
   "metadata": {},
   "source": [
    "**Q: What is the final validation loss of your model?**"
   ]
  },
  {
   "cell_type": "code",
   "execution_count": 92,
   "metadata": {},
   "outputs": [
    {
     "name": "stdout",
     "output_type": "stream",
     "text": [
      "{'val_loss': 7818.931640625}\n"
     ]
    }
   ],
   "source": [
    "val_loss = evaluate(model, val_loader)\n",
    "print(val_loss)"
   ]
  },
  {
   "cell_type": "markdown",
   "metadata": {},
   "source": [
    "Let's log the final validation loss to Jovian and commit the notebook"
   ]
  },
  {
   "cell_type": "code",
   "execution_count": 93,
   "metadata": {},
   "outputs": [
    {
     "name": "stdout",
     "output_type": "stream",
     "text": [
      "[jovian] Metrics logged.\u001b[0m\n"
     ]
    }
   ],
   "source": [
    "jovian.log_metrics(val_loss=val_loss)"
   ]
  },
  {
   "cell_type": "code",
   "execution_count": null,
   "metadata": {},
   "outputs": [],
   "source": [
    "jovian.commit(project=project_name, environment=None)"
   ]
  },
  {
   "cell_type": "markdown",
   "metadata": {},
   "source": [
    "Now scroll back up, re-initialize the model, and try different set of values for batch size, number of epochs, learning rate etc. Commit each experiment and use the \"Compare\" and \"View Diff\" options on Jovian to compare the different results."
   ]
  },
  {
   "cell_type": "markdown",
   "metadata": {},
   "source": [
    "## Step 5: Make predictions using the trained model\n",
    "\n",
    "**Q: Complete the following function definition to make predictions on a single input**"
   ]
  },
  {
   "cell_type": "code",
   "execution_count": 94,
   "metadata": {},
   "outputs": [],
   "source": [
    "def predict_single(input, target, model):\n",
    "    inputs = input.unsqueeze(0)\n",
    "    predictions = model(inputs)              # fill this\n",
    "    prediction = predictions[0].detach()\n",
    "    print(\"Input:\", input)\n",
    "    print(\"Target:\", target)\n",
    "    print(\"Prediction:\", prediction)"
   ]
  },
  {
   "cell_type": "code",
   "execution_count": 95,
   "metadata": {},
   "outputs": [
    {
     "name": "stdout",
     "output_type": "stream",
     "text": [
      "Input: tensor([19.0000,  1.0000, 23.8620,  1.0000,  0.0000])\n",
      "Target: tensor([2002.5884])\n",
      "Prediction: tensor([3142.4045])\n"
     ]
    }
   ],
   "source": [
    "input, target = val_ds[0]\n",
    "predict_single(input, target, model)"
   ]
  },
  {
   "cell_type": "code",
   "execution_count": 96,
   "metadata": {},
   "outputs": [
    {
     "name": "stdout",
     "output_type": "stream",
     "text": [
      "Input: tensor([27.0000,  0.0000, 33.7560,  1.0000,  0.0000])\n",
      "Target: tensor([3900.0188])\n",
      "Prediction: tensor([4482.3193])\n"
     ]
    }
   ],
   "source": [
    "input, target = val_ds[10]\n",
    "predict_single(input, target, model)"
   ]
  },
  {
   "cell_type": "code",
   "execution_count": 97,
   "metadata": {},
   "outputs": [
    {
     "name": "stdout",
     "output_type": "stream",
     "text": [
      "Input: tensor([58.0000,  0.0000, 27.3685,  0.0000,  0.0000])\n",
      "Target: tensor([13324.5420])\n",
      "Prediction: tensor([13454.0947])\n"
     ]
    }
   ],
   "source": [
    "input, target = val_ds[23]\n",
    "predict_single(input, target, model)"
   ]
  },
  {
   "cell_type": "markdown",
   "metadata": {},
   "source": [
    "Are you happy with your model's predictions? Try to improve them further."
   ]
  },
  {
   "cell_type": "markdown",
   "metadata": {},
   "source": [
    "## (Optional) Step 6: Try another dataset & blog about it\n",
    "\n",
    "While this last step is optional for the submission of your assignment, we highly recommend that you do it. Try to clean up & replicate this notebook (or [this one](https://jovian.ml/aakashns/housing-linear-minimal), or [this one](https://jovian.ml/aakashns/mnist-logistic-minimal) ) for a different linear regression or logistic regression problem. This will help solidify your understanding, and give you a chance to differentiate the generic patters in machine learning from problem-specific details.\n",
    "\n",
    "Here are some sources to find good datasets:\n",
    "\n",
    "- https://lionbridge.ai/datasets/10-open-datasets-for-linear-regression/\n",
    "- https://www.kaggle.com/rtatman/datasets-for-regression-analysis\n",
    "- https://archive.ics.uci.edu/ml/datasets.php?format=&task=reg&att=&area=&numAtt=&numIns=&type=&sort=nameUp&view=table\n",
    "- https://people.sc.fsu.edu/~jburkardt/datasets/regression/regression.html\n",
    "- https://archive.ics.uci.edu/ml/datasets/wine+quality\n",
    "- https://pytorch.org/docs/stable/torchvision/datasets.html\n",
    "\n",
    "We also recommend that you write a blog about your approach to the problem. Here is a suggested structure for your post (feel free to experiment with it):\n",
    "\n",
    "- Interesting title & subtitle\n",
    "- Overview of what the blog covers (which dataset, linear regression or logistic regression, intro to PyTorch)\n",
    "- Downloading & exploring the data\n",
    "- Preparing the data for training\n",
    "- Creating a model using PyTorch\n",
    "- Training the model to fit the data\n",
    "- Your thoughts on how to experiment with different hyperparmeters to reduce loss\n",
    "- Making predictions using the model\n",
    "\n",
    "As with the previous assignment, you can [embed Juptyer notebook cells & outputs from Jovian](https://medium.com/jovianml/share-and-embed-jupyter-notebooks-online-with-jovian-ml-df709a03064e) into your blog. \n",
    "\n",
    "Don't forget to share your work on the forum: https://jovian.ml/forum/t/share-your-work-here-assignment-2/4931"
   ]
  },
  {
   "cell_type": "code",
   "execution_count": null,
   "metadata": {},
   "outputs": [
    {
     "data": {
      "application/javascript": [
       "window.require && require([\"base/js/namespace\"],function(Jupyter){Jupyter.notebook.save_checkpoint()})"
      ],
      "text/plain": [
       "<IPython.core.display.Javascript object>"
      ]
     },
     "metadata": {},
     "output_type": "display_data"
    },
    {
     "name": "stdout",
     "output_type": "stream",
     "text": [
      "[jovian] Attempting to save notebook..\u001b[0m\n",
      "[jovian] Please enter your API key ( from https://jovian.ml/ ):\u001b[0m\n",
      "API KEY: ········\n",
      "[jovian] Creating a new project \"aakashns/02-insurance-linear-regression\"\u001b[0m\n",
      "[jovian] Uploading notebook..\u001b[0m\n",
      "[jovian] Committed successfully! https://jovian.ml/aakashns/02-insurance-linear-regression\u001b[0m\n"
     ]
    },
    {
     "data": {
      "application/javascript": [
       "window.require && require([\"base/js/namespace\"],function(Jupyter){Jupyter.notebook.save_checkpoint()})"
      ],
      "text/plain": [
       "<IPython.core.display.Javascript object>"
      ]
     },
     "metadata": {},
     "output_type": "display_data"
    }
   ],
   "source": [
    "jovian.commit(project=project_name, environment=None)\n",
    "jovian.commit(project=project_name, environment=None) # try again, kaggle fails sometimes"
   ]
  },
  {
   "cell_type": "code",
   "execution_count": null,
   "metadata": {},
   "outputs": [],
   "source": []
  }
 ],
 "metadata": {
  "kernelspec": {
   "display_name": "Python 3",
   "language": "python",
   "name": "python3"
  },
  "language_info": {
   "codemirror_mode": {
    "name": "ipython",
    "version": 3
   },
   "file_extension": ".py",
   "mimetype": "text/x-python",
   "name": "python",
   "nbconvert_exporter": "python",
   "pygments_lexer": "ipython3",
   "version": "3.8.6"
  }
 },
 "nbformat": 4,
 "nbformat_minor": 4
}
